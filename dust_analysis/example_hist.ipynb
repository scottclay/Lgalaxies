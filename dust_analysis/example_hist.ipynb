{
 "cells": [
  {
   "cell_type": "code",
   "execution_count": 11,
   "metadata": {},
   "outputs": [
    {
     "data": {
      "image/png": "[encoded data removed]",
      "text/plain": [
       "<matplotlib.figure.Figure at 0x108083da0>"
      ]
     },
     "metadata": {},
     "output_type": "display_data"
    }
   ],
   "source": [
    "import numpy as np\n",
    "import matplotlib.pyplot as plt\n",
    "from matplotlib.ticker import NullFormatter, MaxNLocator\n",
    "from numpy import linspace\n",
    "import matplotlib.cm as cm\n",
    "plt.ion()\n",
    " \n",
    "# Define a function to make the ellipses\n",
    "\n",
    " \n",
    "# Define the x and y data \n",
    "# For example just using random numbers\n",
    "x = np.random.randn(10000)\n",
    "y = np.random.randn(10000)\n",
    " \n",
    "# Set up default x and y limits\n",
    "xlims = [min(x),max(x)]\n",
    "ylims = [min(y),max(y)]\n",
    " \n",
    "# Set up your x and y labels\n",
    "xlabel = '$\\mathrm{Your\\\\ X\\\\ Label}$'\n",
    "ylabel = '$\\mathrm{Your\\\\ Y\\\\ Label}$'\n",
    "\n",
    " \n",
    "# Set up the size of the figure\n",
    "fig = plt.figure(1, figsize=(9.5,9))\n",
    " \n",
    " \n",
    "\n",
    "# Find the min/max of the data\n",
    "xmin = min(xlims)\n",
    "xmax = max(xlims)\n",
    "ymin = min(ylims)\n",
    "ymax = max(y)\n",
    "\n",
    "# Define the number of bins\n",
    "nxbins = 50\n",
    "nybins = 50\n",
    "nbins = 100\n",
    " \n",
    "xbins = linspace(start = xmin, stop = xmax, num = nxbins)\n",
    "ybins = linspace(start = ymin, stop = ymax, num = nybins)\n",
    "xcenter = (xbins[0:-1]+xbins[1:])/2.0\n",
    "ycenter = (ybins[0:-1]+ybins[1:])/2.0\n",
    "aspectratio = 1.0*(xmax - 0)/(1.0*ymax - 0)\n",
    "\n",
    "\n",
    "H, xedges,yedges = np.histogram2d(y,x,bins=(ybins,xbins))\n",
    "X = xcenter\n",
    "Y = ycenter\n",
    "Z = H\n",
    "rect_temperature = [1.0,1.0,1.0,1.0]\n",
    "axTemperature = plt.axes(rect_temperature)\n",
    "# Plot the temperature data\n",
    "cax = (axTemperature.imshow(H, extent=[xmin,xmax,ymin,ymax],\n",
    "       interpolation='nearest', origin='lower',aspect=aspectratio\n",
    "                           ,cmap=cm.get_cmap('BuPu')))\n",
    " \n",
    "# Plot the temperature plot contours\n",
    "contourcolor = 'white'\n",
    "xcenter = np.mean(x)\n",
    "ycenter = np.mean(y)\n",
    "ra = np.std(x)\n",
    "rb = np.std(y)\n",
    "ang = 0\n",
    " \n",
    "\n",
    " \n",
    "#Show the plot\n",
    "plt.draw()"
   ]
  },
  {
   "cell_type": "code",
   "execution_count": null,
   "metadata": {
    "collapsed": true
   },
   "outputs": [],
   "source": []
  }
 ],
 "metadata": {
  "kernelspec": {
   "display_name": "Python 3",
   "language": "python",
   "name": "python3"
  },
  "language_info": {
   "codemirror_mode": {
    "name": "ipython",
    "version": 3
   },
   "file_extension": ".py",
   "mimetype": "text/x-python",
   "name": "python",
   "nbconvert_exporter": "python",
   "pygments_lexer": "ipython3",
   "version": "3.6.1"
  }
 },
 "nbformat": 4,
 "nbformat_minor": 2
}
